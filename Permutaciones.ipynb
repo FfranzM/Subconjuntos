{
 "cells": [
  {
   "cell_type": "code",
   "execution_count": 13,
   "metadata": {},
   "outputs": [
    {
     "name": "stdout",
     "output_type": "stream",
     "text": [
      "7P5, cantidad:2520\n",
      "Mucho texto\n"
     ]
    }
   ],
   "source": [
    "def combinar(C,elemento):\n",
    "    #A es un list elemento es un entero\n",
    "    #si cada elemento de A es un entero,convertirlo en en un list con ese elemento\n",
    "    A=C[:]\n",
    "    if type(elemento)==int:\n",
    "        b=[elemento]\n",
    "        elemento=b[:]\n",
    "    else:\n",
    "        b=elemento[:]\n",
    "    for i in elemento:\n",
    "        A.remove(i)\n",
    "    aux=[]\n",
    "    for i in A:\n",
    "        if type(i)==int:\n",
    "            aux.append([i])\n",
    "        elif type(i)==list:\n",
    "            aux=A[:]\n",
    "            break\n",
    "    #Aqui termina la preparacion de los elementos y comienza la combinacion\n",
    "    temp=[]\n",
    "    for i in aux:\n",
    "        b.extend(i)\n",
    "        temp.append(b)\n",
    "        b=elemento[:]\n",
    "    #regresar una nueva lista con los elementos combinados\n",
    "    return temp\n",
    "\n",
    "S=[1,2,3,4,5,6,7]\n",
    "def hallar(S,sub): \n",
    "    if sub<1 or sub>len(S):\n",
    "        print(\"Error en los parametros ingresados\")\n",
    "        return\n",
    "    elif sub==1:\n",
    "        print(\"{}P{}, cantidad:{}\\n{}\".format(len(S),sub,len(S),S))\n",
    "        return\n",
    "    cont=1\n",
    "    B=S[:]\n",
    "    while(cont<sub):\n",
    "        aux=[]\n",
    "        for i in B:\n",
    "            for j in combinar(S,i):\n",
    "                aux.append(j)\n",
    "        B=aux[:]\n",
    "        cont+=1\n",
    "    print(\"{}P{}, cantidad:{}\".format(len(S),sub,len(aux)))\n",
    "    if len(aux)<100:\n",
    "        for i in aux:\n",
    "            print(i)\n",
    "    else:\n",
    "        print(\"Mucho texto\")\n",
    "hallar(S,7)"
   ]
  },
  {
   "cell_type": "code",
   "execution_count": null,
   "metadata": {},
   "outputs": [],
   "source": []
  }
 ],
 "metadata": {
  "kernelspec": {
   "display_name": "Python 3",
   "language": "python",
   "name": "python3"
  },
  "language_info": {
   "codemirror_mode": {
    "name": "ipython",
    "version": 3
   },
   "file_extension": ".py",
   "mimetype": "text/x-python",
   "name": "python",
   "nbconvert_exporter": "python",
   "pygments_lexer": "ipython3",
   "version": "3.8.5"
  }
 },
 "nbformat": 4,
 "nbformat_minor": 4
}
